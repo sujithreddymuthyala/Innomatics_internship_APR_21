{
 "cells": [
  {
   "cell_type": "code",
   "execution_count": 2,
   "metadata": {},
   "outputs": [],
   "source": [
    "import numpy as np\n"
   ]
  },
  {
   "cell_type": "code",
   "execution_count": 7,
   "metadata": {},
   "outputs": [
    {
     "data": {
      "text/plain": [
       "array([0, 1, 2, 3, 4, 5, 6, 7, 8, 9])"
      ]
     },
     "execution_count": 7,
     "metadata": {},
     "output_type": "execute_result"
    }
   ],
   "source": [
    "np.arange(10)"
   ]
  },
  {
   "cell_type": "code",
   "execution_count": 9,
   "metadata": {},
   "outputs": [
    {
     "data": {
      "text/plain": [
       "4"
      ]
     },
     "execution_count": 9,
     "metadata": {},
     "output_type": "execute_result"
    }
   ],
   "source": [
    "np.random.randint(10)"
   ]
  },
  {
   "cell_type": "code",
   "execution_count": 10,
   "metadata": {},
   "outputs": [
    {
     "data": {
      "text/plain": [
       "array([ 2.19337611, -0.62603656, -0.8193054 ,  0.30990545, -0.05993307,\n",
       "        1.15810739, -0.85326239,  0.21377846, -1.17776523, -0.38361847,\n",
       "       -1.47779476, -0.79440784,  0.18755882, -1.27221342, -0.65397306,\n",
       "       -0.07219525,  1.53801865, -0.37074335, -1.15702719])"
      ]
     },
     "execution_count": 10,
     "metadata": {},
     "output_type": "execute_result"
    }
   ],
   "source": [
    "np.random.randn(19)"
   ]
  },
  {
   "cell_type": "code",
   "execution_count": 17,
   "metadata": {},
   "outputs": [
    {
     "data": {
      "text/plain": [
       "array([[1, 2],\n",
       "       [3, 4],\n",
       "       [5, 6]])"
      ]
     },
     "execution_count": 17,
     "metadata": {},
     "output_type": "execute_result"
    }
   ],
   "source": [
    "np.array([[1,2,3],[4,5,6]]).reshape(3,2)"
   ]
  },
  {
   "cell_type": "code",
   "execution_count": 21,
   "metadata": {},
   "outputs": [
    {
     "data": {
      "text/plain": [
       "array([[20.15277509, 15.42032979, 36.36651056, 33.15152837, 18.17955638],\n",
       "       [27.78576869, 34.26420898, 32.24192165, 11.28428475, 17.52206878],\n",
       "       [27.680454  , 25.05350306, 27.53849117, 14.83373488, 18.00735822],\n",
       "       [21.18414094, 35.74414636, 13.40549814, 17.80020592, 37.17584694]])"
      ]
     },
     "execution_count": 21,
     "metadata": {},
     "output_type": "execute_result"
    }
   ],
   "source": [
    "np.random.uniform(10,40,size=(4,5))"
   ]
  },
  {
   "cell_type": "code",
   "execution_count": 23,
   "metadata": {},
   "outputs": [],
   "source": [
    "k=np.array([[1,2,3],[4,5,6]])"
   ]
  },
  {
   "cell_type": "code",
   "execution_count": 30,
   "metadata": {},
   "outputs": [
    {
     "data": {
      "text/plain": [
       "array([[1, 2, 3],\n",
       "       [4, 5, 6]])"
      ]
     },
     "execution_count": 30,
     "metadata": {},
     "output_type": "execute_result"
    }
   ],
   "source": [
    "k"
   ]
  },
  {
   "cell_type": "code",
   "execution_count": 33,
   "metadata": {},
   "outputs": [
    {
     "data": {
      "text/plain": [
       "6"
      ]
     },
     "execution_count": 33,
     "metadata": {},
     "output_type": "execute_result"
    }
   ],
   "source": [
    "k[1,2]"
   ]
  },
  {
   "cell_type": "code",
   "execution_count": 34,
   "metadata": {},
   "outputs": [
    {
     "data": {
      "text/plain": [
       "array([[4, 5, 6]])"
      ]
     },
     "execution_count": 34,
     "metadata": {},
     "output_type": "execute_result"
    }
   ],
   "source": [
    "k[1:]"
   ]
  },
  {
   "cell_type": "code",
   "execution_count": 35,
   "metadata": {},
   "outputs": [
    {
     "data": {
      "text/plain": [
       "array([[2, 3],\n",
       "       [5, 6]])"
      ]
     },
     "execution_count": 35,
     "metadata": {},
     "output_type": "execute_result"
    }
   ],
   "source": [
    "k[0:,1:]"
   ]
  },
  {
   "cell_type": "code",
   "execution_count": 42,
   "metadata": {},
   "outputs": [
    {
     "data": {
      "text/plain": [
       "array([[4, 5, 6]])"
      ]
     },
     "execution_count": 42,
     "metadata": {},
     "output_type": "execute_result"
    }
   ],
   "source": [
    "k[1::1]"
   ]
  },
  {
   "cell_type": "code",
   "execution_count": 43,
   "metadata": {},
   "outputs": [
    {
     "data": {
      "text/plain": [
       "array([1, 2, 3, 4, 5, 6])"
      ]
     },
     "execution_count": 43,
     "metadata": {},
     "output_type": "execute_result"
    }
   ],
   "source": [
    "k.flatten()"
   ]
  },
  {
   "cell_type": "code",
   "execution_count": 50,
   "metadata": {},
   "outputs": [
    {
     "data": {
      "text/plain": [
       "array([[162, 139, 103, 110, 170, 131, 131, 189, 141, 125],\n",
       "       [126, 120, 162, 142, 144, 165, 135, 115, 142, 106],\n",
       "       [122, 157, 104, 122, 135, 125, 110, 132, 114, 161],\n",
       "       [198, 140, 149, 166, 186, 120, 129, 118, 198, 129],\n",
       "       [159, 193, 187, 178, 126, 184, 187, 111, 157, 150],\n",
       "       [192, 101, 104, 161, 161, 180, 154, 137, 126, 194],\n",
       "       [190, 150, 194, 101, 111, 197, 101, 141, 124, 153],\n",
       "       [168, 102, 105, 175, 186, 112, 145, 103, 167, 102],\n",
       "       [117, 140, 181, 123, 162, 158, 151, 160, 100, 141],\n",
       "       [185, 197, 112, 194, 172, 156, 156, 146, 175, 121]])"
      ]
     },
     "execution_count": 50,
     "metadata": {},
     "output_type": "execute_result"
    }
   ],
   "source": [
    "m=np.random.randint(100,200,size=(10,10))\n",
    "m"
   ]
  },
  {
   "cell_type": "code",
   "execution_count": 51,
   "metadata": {},
   "outputs": [
    {
     "data": {
      "text/plain": [
       "array([[117, 101, 103, 101, 111, 112, 101, 103, 100, 102],\n",
       "       [122, 102, 104, 110, 126, 120, 110, 111, 114, 106],\n",
       "       [126, 120, 104, 122, 135, 125, 129, 115, 124, 121],\n",
       "       [159, 139, 105, 123, 144, 131, 131, 118, 126, 125],\n",
       "       [162, 140, 112, 142, 161, 156, 135, 132, 141, 129],\n",
       "       [168, 140, 149, 161, 162, 158, 145, 137, 142, 141],\n",
       "       [185, 150, 162, 166, 170, 165, 151, 141, 157, 150],\n",
       "       [190, 157, 181, 175, 172, 180, 154, 146, 167, 153],\n",
       "       [192, 193, 187, 178, 186, 184, 156, 160, 175, 161],\n",
       "       [198, 197, 194, 194, 186, 197, 187, 189, 198, 194]])"
      ]
     },
     "execution_count": 51,
     "metadata": {},
     "output_type": "execute_result"
    }
   ],
   "source": [
    "np.sort(m,axis=0)"
   ]
  },
  {
   "cell_type": "code",
   "execution_count": 60,
   "metadata": {},
   "outputs": [],
   "source": [
    "p=np.arange(1,101).reshape(10,10)"
   ]
  },
  {
   "cell_type": "code",
   "execution_count": 61,
   "metadata": {},
   "outputs": [
    {
     "data": {
      "text/plain": [
       "array([[ 1. ,  2. ,  3. ,  4. ,  5. ,  6. ,  7. ,  8. ,  9. , 10. ],\n",
       "       [11. , 12. , 13. , 14. , 15. , 16. , 17. , 18. , 19. , 20. ],\n",
       "       [21. , 22. , 23. , 24. , 25. , 26. , 27. , 28. , 29. , 30. ],\n",
       "       [31. , 32. , 33. , 34. , 35. , 36. , 37. , 38. , 39. , 40. ],\n",
       "       [41. , 42. , 43. , 44. , 45. , 46. , 47. , 48. , 49. , 50. ],\n",
       "       [ 5.1,  5.2,  5.3,  5.4,  5.5,  5.6,  5.7,  5.8,  5.9,  6. ],\n",
       "       [ 6.1,  6.2,  6.3,  6.4,  6.5,  6.6,  6.7,  6.8,  6.9,  7. ],\n",
       "       [ 7.1,  7.2,  7.3,  7.4,  7.5,  7.6,  7.7,  7.8,  7.9,  8. ],\n",
       "       [ 8.1,  8.2,  8.3,  8.4,  8.5,  8.6,  8.7,  8.8,  8.9,  9. ],\n",
       "       [ 9.1,  9.2,  9.3,  9.4,  9.5,  9.6,  9.7,  9.8,  9.9, 10. ]])"
      ]
     },
     "execution_count": 61,
     "metadata": {},
     "output_type": "execute_result"
    }
   ],
   "source": [
    "np.where(p>50,p/10,p)"
   ]
  },
  {
   "cell_type": "markdown",
   "metadata": {},
   "source": [
    "### shape and reshape"
   ]
  },
  {
   "cell_type": "code",
   "execution_count": 47,
   "metadata": {},
   "outputs": [
    {
     "name": "stdout",
     "output_type": "stream",
     "text": [
      "1 2 3 4 5 6 7 8 9\n",
      "[[1 2 3]\n",
      " [4 5 6]\n",
      " [7 8 9]]\n"
     ]
    }
   ],
   "source": [
    "k=list(map(int, input().split()))\n",
    "print(np.array(k).reshape(3,3))"
   ]
  },
  {
   "cell_type": "markdown",
   "metadata": {},
   "source": [
    "### Polynomials"
   ]
  },
  {
   "cell_type": "code",
   "execution_count": 1,
   "metadata": {},
   "outputs": [
    {
     "data": {
      "text/plain": [
       "58"
      ]
     },
     "execution_count": 1,
     "metadata": {},
     "output_type": "execute_result"
    }
   ],
   "source": [
    "import numpy as np\n",
    "np.polyval([1,2,3,4],3)"
   ]
  },
  {
   "cell_type": "code",
   "execution_count": 5,
   "metadata": {},
   "outputs": [
    {
     "name": "stdout",
     "output_type": "stream",
     "text": [
      "1 2\n",
      "3\n"
     ]
    },
    {
     "data": {
      "text/plain": [
       "5"
      ]
     },
     "execution_count": 5,
     "metadata": {},
     "output_type": "execute_result"
    }
   ],
   "source": [
    "arr = list(map(int, input().split()))\n",
    "n=int(input())\n",
    "np.polyval(arr,n)"
   ]
  },
  {
   "cell_type": "markdown",
   "metadata": {},
   "source": [
    "### Concatenate"
   ]
  },
  {
   "cell_type": "code",
   "execution_count": 4,
   "metadata": {},
   "outputs": [
    {
     "name": "stdout",
     "output_type": "stream",
     "text": [
      "4 3 2\n",
      "1 2\n",
      "1 2\n",
      "1 2\n",
      "1 2\n",
      "3 4\n",
      "3 4\n",
      "3 4\n",
      "[[1 2]\n",
      " [1 2]\n",
      " [1 2]\n",
      " [1 2]\n",
      " [3 4]\n",
      " [3 4]\n",
      " [3 4]]\n"
     ]
    }
   ],
   "source": [
    "import numpy as np\n",
    "arr1=[]\n",
    "arr2=[]\n",
    "n,m,p=list(map(int, input().split()))\n",
    "for i in range(n):\n",
    "    k=list(map(int, input().split()))\n",
    "    arr1.append(k)\n",
    "for i in range(m):\n",
    "    l=list(map(int, input().split()))\n",
    "    arr2.append(l)\n",
    "\n",
    "print(np.concatenate((arr1,arr2),axis=0))\n",
    "    "
   ]
  },
  {
   "cell_type": "markdown",
   "metadata": {},
   "source": [
    "### Dot and Cross"
   ]
  },
  {
   "cell_type": "code",
   "execution_count": 3,
   "metadata": {},
   "outputs": [
    {
     "name": "stdout",
     "output_type": "stream",
     "text": [
      "2\n",
      "1 2\n",
      "3 4\n",
      "1 2\n",
      "3 4\n"
     ]
    },
    {
     "data": {
      "text/plain": [
       "array([[ 7, 10],\n",
       "       [15, 22]])"
      ]
     },
     "execution_count": 3,
     "metadata": {},
     "output_type": "execute_result"
    }
   ],
   "source": [
    "import numpy as np\n",
    "arr1=[]\n",
    "arr2=[]\n",
    "n=int(input())\n",
    "for i in range(n):\n",
    "    k=list(map(int, input().split()))\n",
    "    arr1.append(k)\n",
    "for i in range(n):\n",
    "    l=list(map(int, input().split()))\n",
    "    arr2.append(l)\n",
    "np.dot(arr1,arr2)"
   ]
  },
  {
   "cell_type": "markdown",
   "metadata": {},
   "source": [
    "### Inner and Outer\n",
    "\n"
   ]
  },
  {
   "cell_type": "code",
   "execution_count": 5,
   "metadata": {},
   "outputs": [
    {
     "name": "stdout",
     "output_type": "stream",
     "text": [
      "0 1\n",
      "2 3\n",
      "3\n",
      "[[0 0]\n",
      " [2 3]]\n"
     ]
    }
   ],
   "source": [
    "a=list(map(int, input().split()))\n",
    "b=list(map(int, input().split()))\n",
    "print(np.inner(a,b))\n",
    "print(np.outer(a,b))"
   ]
  },
  {
   "cell_type": "markdown",
   "metadata": {},
   "source": [
    "### Min and Max"
   ]
  },
  {
   "cell_type": "code",
   "execution_count": 12,
   "metadata": {},
   "outputs": [
    {
     "name": "stdout",
     "output_type": "stream",
     "text": [
      "4 2\n",
      "1 2\n",
      "3 4\n",
      "5 6\n",
      "7 8\n",
      "7\n"
     ]
    }
   ],
   "source": [
    "arr=[]\n",
    "n,m=list(map(int, input().split()))\n",
    "for i in range(n):\n",
    "    k=list(map(int, input().split()))\n",
    "    arr.append(k)\n",
    "q=np.min(arr,axis=1)\n",
    "print(max(q))"
   ]
  },
  {
   "cell_type": "markdown",
   "metadata": {},
   "source": [
    "### Sum and Prod\n",
    "\n"
   ]
  },
  {
   "cell_type": "code",
   "execution_count": 15,
   "metadata": {},
   "outputs": [
    {
     "name": "stdout",
     "output_type": "stream",
     "text": [
      "4 2\n",
      "1 2\n",
      "3 4\n",
      "5 6\n",
      "7 8\n",
      "320\n"
     ]
    }
   ],
   "source": [
    "arr=[]\n",
    "n,m=list(map(int, input().split()))\n",
    "for i in range(n):\n",
    "    k=list(map(int, input().split()))\n",
    "    arr.append(k)\n",
    "q=np.sum(arr,axis=0)\n",
    "print(np.prod(q))\n"
   ]
  },
  {
   "cell_type": "markdown",
   "metadata": {},
   "source": [
    "### Transpose and Flatten"
   ]
  },
  {
   "cell_type": "code",
   "execution_count": 21,
   "metadata": {},
   "outputs": [
    {
     "name": "stdout",
     "output_type": "stream",
     "text": [
      "4 2\n",
      "1 2\n",
      "3 4\n",
      "5 6\n",
      "7 8\n",
      "[[1 3 5 7]\n",
      " [2 4 6 8]]\n",
      "[1 2 3 4 5 6 7 8]\n"
     ]
    }
   ],
   "source": [
    "arr=[]\n",
    "n,m=list(map(int, input().split()))\n",
    "for i in range(n):\n",
    "    k=list(map(int, input().split()))\n",
    "    arr.append(k)\n",
    "t=np.array(arr)\n",
    "print(np.transpose(arr))\n",
    "print(t.flatten())"
   ]
  },
  {
   "cell_type": "markdown",
   "metadata": {},
   "source": [
    "### Arrays\n",
    "\n"
   ]
  },
  {
   "cell_type": "code",
   "execution_count": 25,
   "metadata": {},
   "outputs": [
    {
     "name": "stdout",
     "output_type": "stream",
     "text": [
      "1 2 3 4\n",
      "[4. 3. 2. 1.]\n"
     ]
    }
   ],
   "source": [
    "import numpy as np\n",
    "\n",
    "def arrays(arr):\n",
    "    k=arr[::-1]\n",
    "    return np.array(k,float)\n",
    "    \n",
    "    \n",
    "    \n",
    "\n",
    "arr = input().strip().split(' ')\n",
    "result = arrays(arr)\n",
    "print(result)\n"
   ]
  },
  {
   "cell_type": "markdown",
   "metadata": {},
   "source": [
    "### Floor, Ceil and Rint"
   ]
  },
  {
   "cell_type": "code",
   "execution_count": 49,
   "metadata": {},
   "outputs": [
    {
     "name": "stdout",
     "output_type": "stream",
     "text": [
      "1.1 2.7 3.2 6\n",
      "[ 1.  2.  3.  6.]\n",
      "[ 2.  3.  4.  6.]\n",
      "[ 1.  3.  3.  6.]\n"
     ]
    }
   ],
   "source": [
    "import  numpy as np\n",
    "np.set_printoptions(legacy='1.13')\n",
    "a= list(map(float, input().split()))\n",
    "k=np.array(a)\n",
    "print(np.floor(k))\n",
    "print(np.ceil(k))\n",
    "print(np.rint(k))\n"
   ]
  },
  {
   "cell_type": "markdown",
   "metadata": {},
   "source": [
    "### Array Mathematics\n",
    "\n"
   ]
  },
  {
   "cell_type": "code",
   "execution_count": 11,
   "metadata": {},
   "outputs": [
    {
     "name": "stdout",
     "output_type": "stream",
     "text": [
      "1 4\n",
      "1 2 3 4\n",
      "5 6 7 8\n",
      "[[ 6  8 10 12]]\n",
      "[[-4 -4 -4 -4]]\n",
      "[[ 5 12 21 32]]\n",
      "[[0 0 0 0]]\n",
      "[[1 2 3 4]]\n",
      "[[    1    64  2187 65536]]\n"
     ]
    }
   ],
   "source": [
    "import numpy as np\n",
    "a=[]\n",
    "b=[]\n",
    "n,m=list(map(int, input().split()))\n",
    "for i in range(n):\n",
    "    k=list(map(int, input().split()))\n",
    "    a.append(k)\n",
    "for i in range(n):\n",
    "    q=list(map(int, input().split()))\n",
    "    b.append(q)\n",
    "arr1=np.array(a)\n",
    "arr2=np.array(b)\n",
    "\n",
    "print (arr1 + arr2) \n",
    "print (arr1 - arr2) \n",
    "print (arr1 * arr2) \n",
    "print (arr1//arr2) \n",
    "print (arr1%arr2)\n",
    "print(arr1**arr2)\n"
   ]
  },
  {
   "cell_type": "markdown",
   "metadata": {},
   "source": [
    "\n",
    "### Eye and Identity"
   ]
  },
  {
   "cell_type": "code",
   "execution_count": 12,
   "metadata": {},
   "outputs": [
    {
     "name": "stdout",
     "output_type": "stream",
     "text": [
      "3 3\n",
      "1 2 3\n",
      "4 5 6\n",
      "7 8 9\n",
      "[[1, 2, 3], [4, 5, 6], [7, 8, 9]]\n"
     ]
    }
   ],
   "source": [
    "a=[]\n",
    "r,c=list(map(int,input().split()))\n",
    "for i in range(r):\n",
    "    k=list(map(int, input().split()))\n",
    "    a.append(k)\n",
    "\n",
    "    "
   ]
  },
  {
   "cell_type": "code",
   "execution_count": 24,
   "metadata": {},
   "outputs": [
    {
     "name": "stdout",
     "output_type": "stream",
     "text": [
      "3 3\n",
      "[[ 1.  0.  0.]\n",
      " [ 0.  1.  0.]\n",
      " [ 0.  0.  1.]]\n"
     ]
    }
   ],
   "source": [
    "np.set_printoptions(legacy='1.13')\n",
    "r,c=list(map(int,input().split()))\n",
    "k=np.identity(r)\n",
    "print(np.array(k))"
   ]
  },
  {
   "cell_type": "markdown",
   "metadata": {},
   "source": [
    "### Mean, Var, and Std"
   ]
  },
  {
   "cell_type": "code",
   "execution_count": 13,
   "metadata": {},
   "outputs": [
    {
     "name": "stdout",
     "output_type": "stream",
     "text": [
      "2 2\n",
      "1 2\n",
      "3 4\n",
      "[ 1.5  3.5]\n",
      "[ 1.  1.]\n",
      "1.11803398875\n"
     ]
    }
   ],
   "source": [
    "import numpy as np\n",
    "np.set_printoptions(legacy='1.13')\n",
    "arr=[]\n",
    "n,m=list(map(int,input().split()))\n",
    "for i in range(n):\n",
    "    k=list(map(int,input().split()))\n",
    "    arr.append(k)\n",
    "print(np.mean(arr,axis=1))\n",
    "print(np.var(arr,axis=0))\n",
    "print(np.std(arr))"
   ]
  },
  {
   "cell_type": "markdown",
   "metadata": {},
   "source": [
    "\n",
    "### Linear Algebra"
   ]
  },
  {
   "cell_type": "code",
   "execution_count": 26,
   "metadata": {},
   "outputs": [
    {
     "name": "stdout",
     "output_type": "stream",
     "text": [
      "2\n",
      "1 2\n",
      "3 4\n",
      "-2.0\n"
     ]
    }
   ],
   "source": [
    "arr=[]\n",
    "n=int(input())\n",
    "for i in range(n):\n",
    "    k=list(map(float,input().split()))\n",
    "    arr.append(k)\n",
    "r=np.linalg.det(arr)\n",
    "print(round(r,2))"
   ]
  },
  {
   "cell_type": "code",
   "execution_count": null,
   "metadata": {},
   "outputs": [],
   "source": []
  },
  {
   "cell_type": "code",
   "execution_count": null,
   "metadata": {},
   "outputs": [],
   "source": []
  }
 ],
 "metadata": {
  "kernelspec": {
   "display_name": "Python 3",
   "language": "python",
   "name": "python3"
  },
  "language_info": {
   "codemirror_mode": {
    "name": "ipython",
    "version": 3
   },
   "file_extension": ".py",
   "mimetype": "text/x-python",
   "name": "python",
   "nbconvert_exporter": "python",
   "pygments_lexer": "ipython3",
   "version": "3.8.5"
  }
 },
 "nbformat": 4,
 "nbformat_minor": 4
}
